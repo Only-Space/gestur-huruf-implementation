{
  "cells": [
    {
      "cell_type": "markdown",
      "id": "76a4d280",
      "metadata": {
        "id": "76a4d280"
      },
      "source": [
        "# Preliminary"
      ]
    },
    {
      "cell_type": "markdown",
      "id": "54f6238a",
      "metadata": {
        "id": "54f6238a"
      },
      "source": [
        "Import"
      ]
    },
    {
      "cell_type": "code",
      "execution_count": 3,
      "id": "f11aa4f0",
      "metadata": {},
      "outputs": [],
      "source": [
        "import cv2\n",
        "import torch\n",
        "import numpy as np\n",
        "import time\n",
        "from torchvision import transforms\n",
        "from torch import nn\n",
        "\n",
        "# =========================\n",
        "# 1. Definisi Model CNN\n",
        "# =========================\n",
        "\n",
        "class CNN(nn.Module):\n",
        "    def __init__(self, num_classes=26):\n",
        "        super().__init__()\n",
        "        self.features = nn.Sequential(\n",
        "            nn.Conv2d(1, 32, 3, padding=1), nn.BatchNorm2d(32), nn.ReLU(), nn.MaxPool2d(2), nn.Dropout2d(0.25),\n",
        "            nn.Conv2d(32, 64, 3, padding=1), nn.BatchNorm2d(64), nn.ReLU(), nn.MaxPool2d(2), nn.Dropout2d(0.25),\n",
        "            nn.Conv2d(64, 128, 3, padding=1), nn.BatchNorm2d(128), nn.ReLU(), nn.MaxPool2d(2), nn.Dropout2d(0.25)\n",
        "        )\n",
        "\n",
        "        self.classifier = nn.Sequential(\n",
        "            nn.Flatten(),\n",
        "            # PERBAIKAN DI SINI: Menggunakan ukuran input yang benar\n",
        "            nn.Linear(128 * 16 * 16, 256), nn.ReLU(), nn.Dropout(0.5),\n",
        "            nn.Linear(256, num_classes)\n",
        "        )\n",
        "\n",
        "    def forward(self, x):\n",
        "        x = self.features(x)\n",
        "        # Bentuk x di sini sebelum flatten adalah (batch_size, 128, 16, 16)\n",
        "        return self.classifier(x)\n",
        "\n",
        "# =========================\n",
        "# 2. Load Model\n",
        "# =========================\n",
        "device = torch.device(\"cuda\" if torch.cuda.is_available() else \"cpu\")\n",
        "model = CNN(num_classes=26).to(device)\n",
        "model.load_state_dict(torch.load(\"cnn_handsign_model_300_epoch.pth\", map_location=device))\n",
        "model.eval()\n",
        "\n",
        "# Transformasi input gambar\n",
        "transform = transforms.Compose([\n",
        "    transforms.ToPILImage(),\n",
        "    transforms.Grayscale(num_output_channels=1),\n",
        "    transforms.Resize((128, 128)),\n",
        "    transforms.ToTensor(),\n",
        "])\n",
        "\n",
        "# Label A-Z\n",
        "LABELS = [chr(i) for i in range(65, 91)]\n",
        "\n",
        "# =========================\n",
        "# 3. Prediksi Frame\n",
        "# =========================\n",
        "def predict(frame):\n",
        "    img_tensor = transform(frame).unsqueeze(0).to(device)\n",
        "    with torch.no_grad():\n",
        "        outputs = model(img_tensor)\n",
        "        _, predicted = torch.max(outputs, 1)\n",
        "    return LABELS[predicted.item()]\n",
        "\n",
        "# =========================\n",
        "# 4. Jalankan Kamera\n",
        "# =========================\n",
        "cap = cv2.VideoCapture(0)\n",
        "sentence = \"\"\n",
        "last_capture_time = 0\n",
        "capture_delay = 2  # detik\n",
        "hand_detected = False\n",
        "\n",
        "while True:\n",
        "    ret, frame = cap.read()\n",
        "    if not ret:\n",
        "        break\n",
        "\n",
        "    # Crop area tengah (bisa diganti metode deteksi tangan lebih baik)\n",
        "    h, w, _ = frame.shape\n",
        "    x1, y1, x2, y2 = w//2-100, h//2-100, w//2+100, h//2+100\n",
        "    roi = frame[y1:y2, x1:x2]\n",
        "\n",
        "    cv2.rectangle(frame, (x1, y1), (x2, y2), (0, 255, 0), 2)\n",
        "    current_time = time.time()\n",
        "\n",
        "    if current_time - last_capture_time > capture_delay:\n",
        "        letter = predict(roi)\n",
        "        sentence += letter\n",
        "        last_capture_time = current_time\n",
        "\n",
        "    cv2.putText(frame, f\"Huruf: {sentence[-1:]}\", (10, 50),\n",
        "                cv2.FONT_HERSHEY_SIMPLEX, 1, (0, 0, 255), 2)\n",
        "    cv2.putText(frame, f\"Kalimat: {sentence}\", (10, 100),\n",
        "                cv2.FONT_HERSHEY_SIMPLEX, 1, (255, 0, 0), 2)\n",
        "\n",
        "    cv2.imshow(\"Hand Sign Recognition\", frame)\n",
        "\n",
        "    if cv2.waitKey(1) & 0xFF == ord('q'):\n",
        "        break\n",
        "\n",
        "cap.release()\n",
        "cv2.destroyAllWindows()\n"
      ]
    }
  ],
  "metadata": {
    "colab": {
      "provenance": []
    },
    "kernelspec": {
      "display_name": "env",
      "language": "python",
      "name": "python3"
    },
    "language_info": {
      "codemirror_mode": {
        "name": "ipython",
        "version": 3
      },
      "file_extension": ".py",
      "mimetype": "text/x-python",
      "name": "python",
      "nbconvert_exporter": "python",
      "pygments_lexer": "ipython3",
      "version": "3.12.3"
    }
  },
  "nbformat": 4,
  "nbformat_minor": 5
}
